{
 "cells": [
  {
   "cell_type": "markdown",
   "metadata": {},
   "source": [
    "## Matroids in OSCAR\n",
    "\n",
    "\n",
    "### Installing and updating Oscar\n",
    "\n",
    "In julia press the `]` key.  The terminal will enter the Pkg REPL and will look like this. (note that I am running julia version 1.8)\n",
    "\n",
    "```\n",
    "(@v1.8) pkg> \n",
    "```\n",
    "\n",
    "To return to the usual julia REPL `julia>`, press the `Backspace` button.  To install Oscar and Combinatorics, in the Pkg REPL, run\n",
    "\n",
    "```\n",
    "(@v1.8) pkg> add \"Oscar\"\n",
    "```\n",
    "\n",
    "Alternatively, in the julia REPL, run\n",
    "\n",
    "```\n",
    "julia> using Pkg\n",
    "julia> Pkg.add(\"Oscar\")\n",
    "```\n",
    "\n",
    "By asking julia to add Oscar, it will also install required packages like Polymake.jl and Singular.jl. To get the status and update all packages, run in the Pkg REPL\n",
    "\n",
    "```\n",
    "(@v1.8) pkg> status\n",
    "(@v1.8) pkg> up\n",
    "```\n",
    "\n",
    "To use julia in a jupyter notebook, you must have the `IJulia` package. The package `Combinatorics` is also required for this notebook. You can add these in a similar way as with `Oscar`.  "
   ]
  },
  {
   "cell_type": "markdown",
   "metadata": {},
   "source": [
    "### Getting help\n",
    "\n",
    "To enter the help mode in a julia REPL, type `?`. The prompt will change to `help?`. You can enter the name of a function, and it will return its documentation. For example, here is a snipit of what you get when asking for help with the function `convex_hull`. \n",
    "\n",
    "```\n",
    "help?> convex_hull\n",
    "search: convex_hull\n",
    "\n",
    "  convex_hull([::Type{T} = QQFieldElem,] V [, R [, L]]; non_redundant::Bool = false)\n",
    "\n",
    "  Construct the convex hull of the vertices V, rays R, and lineality L. If R or L are omitted, then\n",
    "  they are assumed to be zero.\n",
    "\n",
    "  Arguments\n",
    "  ≡≡≡≡≡≡≡≡≡≡≡\n",
    "\n",
    "    •  V::AbstractCollection[PointVector]: Points whose convex hull is to be computed.\n",
    "\n",
    "    •  R::AbstractCollection[RayVector]: Rays completing the set of points.\n",
    "\n",
    "    •  L::AbstractCollection[RayVector]: Generators of the Lineality space.\n",
    "\n",
    "  If an argument is given as a matrix, its content has to be encoded row-wise.\n",
    "\n",
    "  R can be given as an empty matrix or as nothing if the user wants to compute the convex hull only\n",
    "  from V and L.\n",
    "\n",
    "  If it is known that V and R only contain extremal points and that the description of the\n",
    "  lineality space is complete, set non_redundant = true to avoid unnecessary redundancy checks.\n",
    "\n",
    "  See Def. 2.11 and Def. 3.1 of JT13 (@cite).\n",
    "```\n",
    "\n",
    "Another useful function `apropos`. If you have a string that you want to search for (or a related expression),  run \n",
    "\n",
    "```\n",
    "julia> apropos(blah)\n",
    "```\n",
    "\n",
    "or in the help mode, use double quotes:\n",
    "\n",
    "```\n",
    "help?> \"blah\"\n",
    "```\n",
    "\n",
    "**Oscar manual**\n",
    "\n",
    "- Stable release: https://docs.oscar-system.org/stable/\n",
    "\n",
    "- Developers: https://docs.oscar-system.org/dev/"
   ]
  },
  {
   "cell_type": "code",
   "execution_count": 1,
   "metadata": {},
   "outputs": [
    {
     "name": "stdout",
     "output_type": "stream",
     "text": [
      " -----    -----    -----      -      -----   \n",
      "|     |  |     |  |     |    | |    |     |  \n",
      "|     |  |        |         |   |   |     |  \n",
      "|     |   -----   |        |     |  |-----   \n",
      "|     |        |  |        |-----|  |   |    \n",
      "|     |  |     |  |     |  |     |  |    |   \n",
      " -----    -----    -----   -     -  -     -  \n",
      "\n",
      "...combining (and extending) ANTIC, GAP, Polymake and Singular\n",
      "Version\u001b[32m 0.12.0-DEV \u001b[39m... \n",
      " ... which comes with absolutely no warranty whatsoever\n",
      "Type: '?Oscar' for more information\n",
      "(c) 2019-2023 by The OSCAR Development Team\n"
     ]
    }
   ],
   "source": [
    "using Oscar\n",
    "using Combinatorics"
   ]
  },
  {
   "cell_type": "markdown",
   "metadata": {},
   "source": [
    "## Matroids\n",
    "\n",
    "A $(d,n)$-*matroid* is a nonempty subset $\\mathsf{Q} \\subset \\binom{[n]}{d}$ that satisfies the basis-exchange axiom: for any $A, B \\in \\mathsf{Q}$ and $a\\in A\\setminus B$, there is a $b\\in B\\setminus A$ such that $A \\Delta \\{a,b\\} \\in \\mathsf{Q}$. The elements of $\\mathsf{Q}$ are called the *bases* of $\\mathsf{Q}$."
   ]
  },
  {
   "cell_type": "markdown",
   "metadata": {},
   "source": [
    "The *M&ouml;bius-Kantor* matroid $\\mathsf{Q}_{mk}$ is the rank 3 matroid on $[8]$ whose bases are $\\binom{[8]}{3}$ except for the following subsets\n",
    "\\begin{equation}\n",
    "126, 145, 178, 235, 248, 347, 368, 567.\n",
    "\\end{equation}\n",
    "Geometrically, this is the matroid of the configuration of 8 points (and lines) in $\\mathbb{P}^{2}$ such that every point is contained in 3 lines and every line contains 3 points. "
   ]
  },
  {
   "cell_type": "code",
   "execution_count": 2,
   "metadata": {},
   "outputs": [
    {
     "data": {
      "text/plain": [
       "Matroid of rank 3 on 8 elements"
      ]
     },
     "execution_count": 2,
     "metadata": {},
     "output_type": "execute_result"
    }
   ],
   "source": [
    "MK = matroid_from_nonbases([[1,2,6],[1,4,5],[1,7,8],[2,3,5],[2,4,8],[3,4,7],[3,6,8],[5,6,7]], 8)"
   ]
  },
  {
   "cell_type": "markdown",
   "metadata": {},
   "source": [
    "Define the $(4,8)$-matroid $\\mathsf{Q}_{\\text{oct}}$ to be the matroid of the supporting hyperplanes of the regular octahedron in $\\mathbb{P}^{3}$. "
   ]
  },
  {
   "cell_type": "code",
   "execution_count": 3,
   "metadata": {},
   "outputs": [
    {
     "data": {
      "text/plain": [
       "Matroid of rank 4 on 8 elements"
      ]
     },
     "execution_count": 3,
     "metadata": {},
     "output_type": "execute_result"
    }
   ],
   "source": [
    "A = matrix(ZZ,\n",
    "    [1 -1 -1 -1;\n",
    "     1 1 -1 -1;\n",
    "     1 -1 1 -1;\n",
    "     1 1 1 -1;\n",
    "     1 -1 -1 1;\n",
    "     1 1 -1 1;\n",
    "     1 -1 1 1;\n",
    "     1 1 1 1])\n",
    "\n",
    "Oct = matroid_from_matrix_rows(A)"
   ]
  },
  {
   "cell_type": "markdown",
   "metadata": {},
   "source": [
    "Running functions like `bases`, `nonbases`, `circuits`, `flats`, etc. gives the basic data of the matroid. For example, the bases of $\\mathsf{Q}_{\\text{oct}}$ are $\\binom{[8]}{4}$ except\n",
    "\\begin{equation}\n",
    "    1234, 1256, 1278, 1357, 1368, 1458, 2367, 2457, 2468, 3456, 3478, 5678\n",
    "\\end{equation}"
   ]
  },
  {
   "cell_type": "code",
   "execution_count": 4,
   "metadata": {},
   "outputs": [
    {
     "data": {
      "text/plain": [
       "12-element Vector{Vector{Int64}}:\n",
       " [1, 2, 3, 4]\n",
       " [1, 2, 5, 6]\n",
       " [1, 2, 7, 8]\n",
       " [1, 3, 5, 7]\n",
       " [1, 3, 6, 8]\n",
       " [1, 4, 5, 8]\n",
       " [2, 3, 6, 7]\n",
       " [2, 4, 5, 7]\n",
       " [2, 4, 6, 8]\n",
       " [3, 4, 5, 6]\n",
       " [3, 4, 7, 8]\n",
       " [5, 6, 7, 8]"
      ]
     },
     "execution_count": 4,
     "metadata": {},
     "output_type": "execute_result"
    }
   ],
   "source": [
    "nonbases(Oct)"
   ]
  },
  {
   "cell_type": "markdown",
   "metadata": {},
   "source": [
    "### Automorphism groups\n",
    "Next, we compute the automorphism group of $\\mathsf{Q}_{mk}$. "
   ]
  },
  {
   "cell_type": "code",
   "execution_count": 5,
   "metadata": {},
   "outputs": [
    {
     "name": "stdout",
     "output_type": "stream",
     "text": [
      "AutMK = Group([ (1,3)(4,8)(5,6), (1,7,3,2)(4,5,6,8), (1,3)(2,4)(6,7) ])\n",
      "order(AutMK) = 48\n"
     ]
    }
   ],
   "source": [
    "AutMK = automorphism_group(MK);\n",
    "@show AutMK;\n",
    "@show order(AutMK);"
   ]
  },
  {
   "cell_type": "markdown",
   "metadata": {},
   "source": [
    "For well-known groups, the function `describe` gives a familiar description of the group."
   ]
  },
  {
   "cell_type": "code",
   "execution_count": 6,
   "metadata": {},
   "outputs": [
    {
     "name": "stdout",
     "output_type": "stream",
     "text": [
      "describe(AutMK) = \"GL(2,3)\"\n"
     ]
    }
   ],
   "source": [
    "@show describe(AutMK);"
   ]
  },
  {
   "cell_type": "markdown",
   "metadata": {},
   "source": [
    "An explanation of the notation can be found here\n",
    "\n",
    "https://docs.oscar-system.org/dev/Groups/basics/#describe-Tuple{Oscar.GAPGroup}\n",
    "\n",
    "In this case, `GL(2,3)` means $\\mathsf{GL}_2(\\mathbb{F}_3)$. Here is the automorphism group for $\\mathsf{Q}_{\\text{oct}}$."
   ]
  },
  {
   "cell_type": "code",
   "execution_count": 7,
   "metadata": {},
   "outputs": [
    {
     "name": "stdout",
     "output_type": "stream",
     "text": [
      "AutOct = Group([ (1,7)(3,5), (2,3)(6,7), (1,4)(6,7), (1,2)(3,4)(5,6)(7,8) ])\n",
      "order(AutOct) = 192\n"
     ]
    }
   ],
   "source": [
    "AutOct = automorphism_group(Oct);\n",
    "@show AutOct;\n",
    "@show order(AutOct);"
   ]
  },
  {
   "cell_type": "code",
   "execution_count": 8,
   "metadata": {},
   "outputs": [
    {
     "name": "stdout",
     "output_type": "stream",
     "text": [
      "describe(AutOct) = \"(((C2 x C2 x C2 x C2) : C3) : C2) : C2\"\n"
     ]
    }
   ],
   "source": [
    "@show describe(AutOct);"
   ]
  },
  {
   "cell_type": "markdown",
   "metadata": {},
   "source": [
    "Here, `N:H` denotes the semidirect product $N \\rtimes H$. Here are some automorphism groups of famous matroids."
   ]
  },
  {
   "cell_type": "code",
   "execution_count": 9,
   "metadata": {},
   "outputs": [
    {
     "name": "stdout",
     "output_type": "stream",
     "text": [
      "describe(automorphism_group(non_fano_matroid())) = \"S4\"\n",
      "describe(automorphism_group(fano_matroid())) = \"PSL(3,2)\"\n",
      "describe(automorphism_group(non_pappus_matroid())) = \"D12\"\n",
      "describe(automorphism_group(pappus_matroid())) = \"((C3 x C3) : C3) : (C2 x C2)\"\n",
      "describe(automorphism_group(vamos_matroid())) = \"D8 x D8\"\n"
     ]
    }
   ],
   "source": [
    "@show describe(automorphism_group(non_fano_matroid()));\n",
    "@show describe(automorphism_group(fano_matroid()));\n",
    "@show describe(automorphism_group(non_pappus_matroid()));\n",
    "@show describe(automorphism_group(pappus_matroid()));\n",
    "@show describe(automorphism_group(vamos_matroid()));"
   ]
  },
  {
   "cell_type": "markdown",
   "metadata": {},
   "source": [
    "**Fact**. The automorphism group of a graph $\\Gamma$ is not in general isomorphic to the automorphism group of its cycle matroid. "
   ]
  },
  {
   "cell_type": "code",
   "execution_count": 10,
   "metadata": {},
   "outputs": [
    {
     "name": "stdout",
     "output_type": "stream",
     "text": [
      "describe(G_graph) = \"C2 x C2\"\n"
     ]
    }
   ],
   "source": [
    "Gamma = complete_graph(4)\n",
    "rem_edge!(Gamma, 3, 4)\n",
    "S4 = symmetric_group(4)\n",
    "gensG = automorphism_group_generators(Gamma)\n",
    "G_graph, _ = sub(S4, gensG)\n",
    "@show describe(G_graph);"
   ]
  },
  {
   "cell_type": "code",
   "execution_count": 11,
   "metadata": {},
   "outputs": [
    {
     "name": "stdout",
     "output_type": "stream",
     "text": [
      "describe(G_mat) = \"D8\"\n"
     ]
    }
   ],
   "source": [
    "MGamma = cycle_matroid(Gamma)\n",
    "G_mat = automorphism_group(MGamma)\n",
    "@show describe(G_mat);"
   ]
  },
  {
   "cell_type": "markdown",
   "metadata": {},
   "source": [
    "### Matroid polytopes\n",
    "Let $\\epsilon_1,\\ldots,\\epsilon_n$ denote the standard basis of $\\mathbb{R}^n$. Given a $(d,n)$-matroid $\\mathsf{Q}$, the matroid polytope of $\\mathsf{Q}$ is \n",
    "\n",
    "\\begin{equation}\n",
    "\\Delta(\\mathsf{Q}) = \\mathsf{conv}(\\epsilon_{i_1} + \\cdots + \\epsilon_{i_d} \\, : \\, \\{\\epsilon_{i_1}, \\ldots, \\epsilon_{i_d}\\} \\in \\mathsf{Q})\n",
    "\\end{equation}"
   ]
  },
  {
   "cell_type": "code",
   "execution_count": 12,
   "metadata": {},
   "outputs": [
    {
     "data": {
      "text/plain": [
       "matroid_polytope (generic function with 1 method)"
      ]
     },
     "execution_count": 12,
     "metadata": {},
     "output_type": "execute_result"
    }
   ],
   "source": [
    "function indicator(B, n)\n",
    "    v = zeros(Int, n)\n",
    "    w = ones(Int, length(B))\n",
    "    v[B] = w\n",
    "    return v\n",
    "end\n",
    "\n",
    "function matroid_polytope(Q)\n",
    "    Bs = bases(Q)\n",
    "    n = length(matroid_groundset(Q))\n",
    "    eBs = [indicator(B,n) for B in Bs]\n",
    "    vs =[eBs[i][j] for i in 1:length(Bs), j in 1:n]\n",
    "    return convex_hull(vs)\n",
    "end"
   ]
  },
  {
   "cell_type": "markdown",
   "metadata": {},
   "source": [
    "The matroid polytope $\\Delta(\\mathsf{Q})$ has dimension $n-\\#(\\text{connected components})$. Given a connected matroid $\\mathsf{Q}$, a subset $A$ is nondegenerate if the restriction $\\mathsf{Q}|A$ and contraction $\\mathsf{Q}/A$ are connected. The hyperplane description of $\\Delta(\\mathsf{Q})$ is\n",
    "\n",
    "\\begin{align}\n",
    "    &x_{1} + \\cdots + x_n = d \\\\\n",
    "    &\\sum_{i\\in I}x_{i} \\leq r_{\\mathsf{Q}}(I) \\hspace{20pt} \\text{ if $I$ is a nondegenerate subset}.\n",
    "\\end{align}\n",
    "\n",
    "\n",
    "\n"
   ]
  },
  {
   "cell_type": "code",
   "execution_count": 13,
   "metadata": {},
   "outputs": [
    {
     "data": {
      "text/plain": [
       "24-element SubObjectIterator{AffineHalfspace{QQFieldElem}} over the Halfspaces of R^8 described by:\n",
       "-x₆ ≦ 0\n",
       "-x₈ ≦ 0\n",
       "-x₃ - x₄ - x₅ - x₇ - x₈ ≦ -1\n",
       "-x₂ - x₃ - x₄ - x₅ - x₆ - x₇ - x₈ ≦ -2\n",
       "x₂ ≦ 1\n",
       "-x₇ ≦ 0\n",
       "-x₅ ≦ 0\n",
       "x₂ + x₃ + x₅ ≦ 2\n",
       "x₃ ≦ 1\n",
       "-x₄ ≦ 0\n",
       "x₂ + x₄ + x₈ ≦ 2\n",
       "x₄ ≦ 1\n",
       "x₃ + x₆ + x₈ ≦ 2\n",
       "-x₂ - x₃ - x₆ - x₇ - x₈ ≦ -1\n",
       "x₅ ≦ 1\n",
       "x₂ + x₃ + x₄ + x₅ + x₆ + x₇ + x₈ ≦ 3\n",
       "-x₂ - x₃ - x₄ - x₅ - x₆ ≦ -1\n",
       "-x₃ ≦ 0\n",
       "x₇ ≦ 1\n",
       "-x₂ ≦ 0\n",
       "x₃ + x₄ + x₇ ≦ 2\n",
       "x₈ ≦ 1\n",
       "x₅ + x₆ + x₇ ≦ 2\n",
       "x₆ ≦ 1\n"
      ]
     },
     "execution_count": 13,
     "metadata": {},
     "output_type": "execute_result"
    }
   ],
   "source": [
    "Delta = matroid_polytope(MK)\n",
    "facets(Delta)"
   ]
  },
  {
   "cell_type": "markdown",
   "metadata": {},
   "source": [
    "Reintrepreting this, we see that the facets are \n",
    "\\begin{align} \n",
    "    \\begin{array}{ll}\n",
    "     x_i \\leq 1 & \\text{ for } i=1,\\ldots,8\\\\\n",
    "     \\sum_{j\\neq i} x_j \\leq 3 & \\text{ for } i=1,\\ldots,8 \\\\\n",
    "     x_{i} + x_{j} + x_{k} \\leq 2 & \\text{ for } ijk = 126, 145, 178, 235, 248, 347, 368, 567.\n",
    "    \\end{array}\n",
    "\\end{align}\n",
    "This agrees with the description above, indeed, the nondegenerate subsets of $\\mathsf{Q}_{mk}$ are the singletons, sets of size 7, and the nonbases of this matroid (warning: this nonbases characterization does not generalize)."
   ]
  },
  {
   "cell_type": "code",
   "execution_count": 14,
   "metadata": {},
   "outputs": [
    {
     "data": {
      "text/plain": [
       "true"
      ]
     },
     "execution_count": 14,
     "metadata": {},
     "output_type": "execute_result"
    }
   ],
   "source": [
    "nondegenerate = [[1], [2], [3], [4], [5], [6], [7], \n",
    "    [1,2,6], [1,4,5], [1,7,8], [2,3,5], [2,4,8], [3,4,7], [3,6,8], [5,6,7],\n",
    "    [1,2,3,4,5,6,7], [1,2,3,4,5,6,7], [1,2,3,4,5,6,8], [1,2,3,4,5,7,8], [1,2,3,4,6,7,8], \n",
    "    [1,2,3,5,6,7,8], [1,2,4,5,6,7,8], [1,3,4,5,6,7,8], [2,3,4,5,6,7,8]];\n",
    "\n",
    "all([is_connected(restriction(MK,A)) && is_connected(contraction(MK,A))  for A in nondegenerate ])"
   ]
  },
  {
   "cell_type": "markdown",
   "metadata": {},
   "source": [
    "### Regular subdivisions \n",
    "\n",
    "Given a polytope $\\Delta \\subset \\mathbb{R}^{n}$ (more generally, a point configuration) and a function on the vertices $\\mathsf{w}\\in \\mathbb{R}^{V(\\Delta)}$, we may form the regular subdivision of $\\Delta$, which we denote by $\\mathcal{Q}(\\mathsf{w})$. This subdivision is achieved by lifting the vertices of $\\Delta \\subset \\mathbb{R}^n \\times \\mathbb{R}$ to heights dictated by $\\mathsf{w}$, then project the lowerfaces to $\\Delta$. \n",
    "\n",
    "The hypersimplex $\\Delta(d,n)$ is the convex hull of the indicator vectors of all elements in $\\binom{[n]}{d}$. If $d=1$ or $d=n-1$, this is just an ordinary simplex. "
   ]
  },
  {
   "cell_type": "code",
   "execution_count": 15,
   "metadata": {},
   "outputs": [
    {
     "data": {
      "text/plain": [
       "70-element SubObjectIterator{PointVector{QQFieldElem}}:\n",
       " [1, 1, 1, 1, 0, 0, 0, 0]\n",
       " [1, 1, 1, 0, 1, 0, 0, 0]\n",
       " [1, 1, 1, 0, 0, 1, 0, 0]\n",
       " [1, 1, 1, 0, 0, 0, 1, 0]\n",
       " [1, 1, 1, 0, 0, 0, 0, 1]\n",
       " [1, 1, 0, 1, 1, 0, 0, 0]\n",
       " [1, 1, 0, 1, 0, 1, 0, 0]\n",
       " [1, 1, 0, 1, 0, 0, 1, 0]\n",
       " [1, 1, 0, 1, 0, 0, 0, 1]\n",
       " [1, 1, 0, 0, 1, 1, 0, 0]\n",
       " [1, 1, 0, 0, 1, 0, 1, 0]\n",
       " [1, 1, 0, 0, 1, 0, 0, 1]\n",
       " [1, 1, 0, 0, 0, 1, 1, 0]\n",
       " ⋮\n",
       " [0, 0, 1, 1, 0, 1, 1, 0]\n",
       " [0, 0, 1, 1, 0, 1, 0, 1]\n",
       " [0, 0, 1, 1, 0, 0, 1, 1]\n",
       " [0, 0, 1, 0, 1, 1, 1, 0]\n",
       " [0, 0, 1, 0, 1, 1, 0, 1]\n",
       " [0, 0, 1, 0, 1, 0, 1, 1]\n",
       " [0, 0, 1, 0, 0, 1, 1, 1]\n",
       " [0, 0, 0, 1, 1, 1, 1, 0]\n",
       " [0, 0, 0, 1, 1, 1, 0, 1]\n",
       " [0, 0, 0, 1, 1, 0, 1, 1]\n",
       " [0, 0, 0, 1, 0, 1, 1, 1]\n",
       " [0, 0, 0, 0, 1, 1, 1, 1]"
      ]
     },
     "execution_count": 15,
     "metadata": {},
     "output_type": "execute_result"
    }
   ],
   "source": [
    "Delta48 = matroid_polytope(uniform_matroid(4,8))\n",
    "V48 = vertices(Delta48)"
   ]
  },
  {
   "cell_type": "markdown",
   "metadata": {},
   "source": [
    "In this setup, the vertices are labeled lexicographically. Given $B = \\{i_1,\\ldots,i_d\\}$, let $\\mathsf{e}_{B} = \\epsilon_{i_1} \\wedge \\cdots \\wedge \\epsilon_{i_d}$. The vectors $e_{B}$ for $B\\in \\binom{[n]}{d}$ form a basis for $\\wedge^d\\mathbb{R}^{n} \\cong \\mathbb{R}^{\\textstyle{\\binom{[8]}{4}}}$. We compute the regular subdivision of $\\Delta(4,8)$ with respect to the vector \n",
    "\\begin{equation*}\n",
    "\\mathsf{w} = \\mathsf{e}_{1234} + \\mathsf{e}_{1256} + \\mathsf{e}_{1278} + \\mathsf{e}_{1357} + \\mathsf{e}_{1368} +  \\mathsf{e}_{1458} + \\mathsf{e}_{2367} + \\mathsf{e}_{2457} + \\mathsf{e}_{2468} + \\mathsf{e}_{3456} + \\mathsf{e}_{3478} + \\mathsf{e}_{5678} \\in \\mathbb{R}^{\\textstyle{\\binom{[8]}{4}}}.\n",
    "\\end{equation*}"
   ]
  },
  {
   "cell_type": "code",
   "execution_count": 16,
   "metadata": {},
   "outputs": [
    {
     "data": {
      "text/plain": [
       "13-element SubObjectIterator{Vector{Int64}}:\n",
       " [2, 3, 6, 7, 10, 11, 12, 13, 14, 20, 26, 32, 33, 40, 46, 52, 53]\n",
       " [2, 4, 11, 16, 18, 20, 21, 22, 23, 25, 27, 32, 34, 41, 57, 62, 64]\n",
       " [3, 5, 14, 17, 19, 20, 22, 23, 24, 25, 30, 33, 35, 44, 60, 63, 65]\n",
       " [4, 5, 8, 9, 11, 12, 13, 14, 15, 25, 31, 34, 35, 45, 51, 54, 55]\n",
       " [18, 19, 25, 31, 38, 39, 45, 51, 57, 58, 59, 60, 61, 64, 65, 68, 69]\n",
       " [32, 33, 34, 35, 52, 53, 54, 55, 62, 63, 64, 65, 66, 67, 68, 69, 70]\n",
       " [6, 9, 12, 16, 19, 22, 26, 27, 28, 30, 31, 33, 34, 48, 58, 67, 68]\n",
       " [16, 17, 20, 26, 36, 37, 40, 46, 56, 57, 58, 59, 60, 62, 63, 66, 67]\n",
       " [7, 9, 14, 30, 37, 39, 44, 46, 48, 49, 50, 51, 53, 55, 60, 67, 69]\n",
       " [6, 8, 11, 27, 36, 38, 41, 46, 47, 48, 49, 51, 52, 54, 57, 66, 68]\n",
       " [2, 3, 4, 5, 6, 7, 8, 9, 11, 12  …  59, 60, 62, 63, 64, 65, 66, 67, 68, 69]\n",
       " [3, 4, 13, 23, 37, 38, 40, 41, 43, 44, 45, 49, 52, 55, 59, 62, 65]\n",
       " [1, 2, 3, 4, 5, 6, 7, 8, 9, 16, 17, 18, 19, 36, 37, 38, 39]"
      ]
     },
     "execution_count": 16,
     "metadata": {},
     "output_type": "execute_result"
    }
   ],
   "source": [
    "C48 = collect(powerset(1:8, 4, 4))\n",
    "w = [4-rank(Oct, B) for B in C48]\n",
    "Qw = SubdivisionOfPoints(V48, w)\n",
    "maxQw = maximal_cells(Qw)"
   ]
  },
  {
   "cell_type": "markdown",
   "metadata": {},
   "source": [
    "A good way to visualize a regular subdivision is via its adjacency graph. Unfortunately, this command is not yet in Oscar, so we must work with Polymake.jl. "
   ]
  },
  {
   "cell_type": "code",
   "execution_count": 17,
   "metadata": {},
   "outputs": [],
   "source": [
    "graph_polymake = Qw.pm_subdivision.POLYHEDRAL_COMPLEX.DUAL_GRAPH\n",
    "graph_oscar = Graph{Graphs.Undirected}(graph_polymake.ADJACENCY);"
   ]
  },
  {
   "cell_type": "markdown",
   "metadata": {},
   "source": [
    "The problem is that Polymake.jl is `0`-based, whereas julia is `1`-based indexed. Sometimes, the functions `Polymake.to_one_based_indexing` and `Polymake.to_zero_based_indexing` are useful to convert between the two conventions. \n",
    "\n",
    "To visualize the graph, use the function `Polymake.visual`."
   ]
  },
  {
   "cell_type": "code",
   "execution_count": 18,
   "metadata": {},
   "outputs": [],
   "source": [
    "Polymake.visual(graph_polymake)"
   ]
  },
  {
   "cell_type": "markdown",
   "metadata": {},
   "source": [
    "Here is a more interesting subdivision, this time for $\\Delta(3,8)$. Let \n",
    "\\begin{align}\n",
    "\\mathsf{w} = &2\\mathsf{e}_{123} + 2\\mathsf{e}_{124} + 2\\mathsf{e}_{134} + 2\\mathsf{e}_{135} + 2\\mathsf{e}_{136} + 4\\mathsf{e}_{137} + 3\\mathsf{e}_{138} + \\mathsf{e}_{156}  + \\mathsf{e}_{178} + 2\\mathsf{e}_{234} + \\mathsf{e}_{245} + \\mathsf{e}_{246} + \\\\\n",
    "&\\mathsf{e}_{247}  + \\mathsf{e}_{248} + \\mathsf{e}_{256} + \\mathsf{e}_{278} + \\mathsf{e}_{356}  + \\mathsf{e}_{378} + \\mathsf{e}_{456} + \\mathsf{e}_{478} +  2\\mathsf{e}_{567}  + 2\\mathsf{e}_{568} +  2\\mathsf{e}_{578} + 2\\mathsf{e}_{678} \n",
    "\\end{align}"
   ]
  },
  {
   "cell_type": "code",
   "execution_count": 19,
   "metadata": {},
   "outputs": [],
   "source": [
    "Delta38 = matroid_polytope(uniform_matroid(3,8))\n",
    "V38 = vertices(Delta38)\n",
    "w2 = [2,2,0,0,0,0,2,2,2,4,3,0,0,0,0,1,0,0,0,0,1,2,0,0,0,0,1,1,\n",
    "      1,1,1,0,0,0,0,1,0,0,0,0,1,0,0,0,0,1,1,0,0,0,0,1,2,2,2,2]\n",
    "Qw2 = SubdivisionOfPoints(V38, w2)\n",
    "graph_polymake2 = Qw2.pm_subdivision.POLYHEDRAL_COMPLEX.DUAL_GRAPH;"
   ]
  },
  {
   "cell_type": "code",
   "execution_count": 20,
   "metadata": {},
   "outputs": [],
   "source": [
    "Polymake.visual(graph_polymake2)"
   ]
  },
  {
   "cell_type": "markdown",
   "metadata": {},
   "source": [
    "The *secondary fan* $\\Sigma_{\\text{sec}}(\\Delta)$ is the complete fan in $\\mathbb{R}^{V(\\Delta)} / \\mathbb{R}$, where two vectors $\\mathsf{w}$ and $\\mathsf{w}'$ belong to the relative interior of the same cone if and only if $\\mathcal{Q}(\\mathsf{w}) = \\mathcal{Q}(\\mathsf{w}')$. The function `secondary_cone` returns the cone in the secondary fan corresponding to the input regular subdivision. "
   ]
  },
  {
   "cell_type": "code",
   "execution_count": 21,
   "metadata": {},
   "outputs": [
    {
     "name": "stdout",
     "output_type": "stream",
     "text": [
      "dim(Cw) = 20\n"
     ]
    }
   ],
   "source": [
    "Cw = secondary_cone(Qw)\n",
    "@show dim(Cw);"
   ]
  },
  {
   "cell_type": "markdown",
   "metadata": {},
   "source": [
    "If $\\Delta$ is full dimensional in $\\mathbb{R}^n$ (which is *not* the case for the $(d,n)$-hypersimplex), the secondary fan has a $n$-dimensional lineality space induced by all linear functions on $\\mathbb{R}^n$. So to get the rays of this cone, use the `rays_modulo_lineality` function. "
   ]
  },
  {
   "cell_type": "code",
   "execution_count": 22,
   "metadata": {},
   "outputs": [
    {
     "data": {
      "text/plain": [
       "12-element SubObjectIterator{RayVector{QQFieldElem}}:\n",
       " [0, -1, -1, -1, 0, -1, -1, -1, 0, -1  …  0, -1, 0, 0, 0, -1, 0, 0, 0, 0]\n",
       " [0, 1, -1, 1, -1, 1, -1, 1, -1, 0  …  0, 1, -1, 1, -1, 1, -1, 1, -1, 0]\n",
       " [0, 1, 1, 0, 1, 0, 0, -1, 0, 1  …  0, 0, 1, 0, 0, -1, 0, -1, -1, 0]\n",
       " [0, -1, -1, -1, 1, -1, -1, -1, 1, -2  …  0, -3, -1, -1, -1, -3, -1, -1, -1, 0]\n",
       " [0, 0, 0, 0, 0, 0, 0, 0, 0, 0  …  0, 0, 0, 0, 0, 0, 0, 0, 0, 0]\n",
       " [0, 1, 1, 1, 1, -1, -1, -1, -1, 0  …  0, 1, 1, 1, 1, -1, -1, -1, -1, 0]\n",
       " [0, 0, 0, 0, 0, 0, 0, 0, 0, 0  …  0, 0, 0, 0, 0, 0, 0, 0, 0, 0]\n",
       " [0, 0, 0, 0, 0, 0, 0, 0, 0, 0  …  0, 0, 0, 0, 0, 0, 0, 0, 0, 0]\n",
       " [0, -1, 1, -1, -1, -1, 1, -1, -1, 0  …  0, 1, 1, -1, 1, 1, 1, -1, 1, 0]\n",
       " [0, 0, 0, 0, 0, 0, 0, 0, 0, 0  …  0, 0, 0, 0, 0, 0, 0, 0, 0, 0]\n",
       " [0, 0, 0, 0, 0, 0, 0, 0, 0, 0  …  0, 0, 0, 0, 0, 0, 0, 0, 0, 0]\n",
       " [0, 0, 0, 0, 0, 0, 0, 0, 0, 1  …  0, 0, 0, 0, 0, 0, 0, 0, 0, 0]"
      ]
     },
     "execution_count": 22,
     "metadata": {},
     "output_type": "execute_result"
    }
   ],
   "source": [
    "rays_w, lineality_w = rays_modulo_lineality(Cw)\n",
    "rays_w"
   ]
  },
  {
   "cell_type": "markdown",
   "metadata": {},
   "source": [
    "Ugh, these vector representatives are not the cleanest. To find the simpliest representative of a vector in the secondary cone of a regular subdivision, use the `min_weights` function. Here is how this works for the first ray. "
   ]
  },
  {
   "cell_type": "code",
   "execution_count": 23,
   "metadata": {},
   "outputs": [
    {
     "name": "stdout",
     "output_type": "stream",
     "text": [
      "[1, 0, 0, 0, 0, 0, 0, 0, 0, 0, 0, 0, 0, 0, 0, 0, 0, 0, 0, 0, 0, 0, 0, 0, 0, 0, 0, 0, 0, 0, 0, 0, 0, 0, 0, 0, 0, 0, 0, 0, 0, 0, 0, 0, 0, 0, 0, 0, 0, 0, 0, 0, 0, 0, 0, 0, 0, 0, 0, 0, 0, 0, 0, 0, 0, 0, 0, 0, 0, 0]\n"
     ]
    }
   ],
   "source": [
    "println(min_weights(SubdivisionOfPoints(Delta48, rays_w[1])))"
   ]
  },
  {
   "cell_type": "markdown",
   "metadata": {},
   "source": [
    "We can use this to confirm that the rays of this secondary cone are $\\mathsf{e}_{1234}, \\mathsf{e}_{1256}, \\mathsf{e}_{1278}, \\mathsf{e}_{1357}, \\mathsf{e}_{1368}, \\mathsf{e}_{1458}, \\mathsf{e}_{2367}, \\mathsf{e}_{2457}, \\mathsf{e}_{2468}, \\mathsf{e}_{3456}, \\mathsf{e}_{3478}, \\mathsf{e}_{5678}$."
   ]
  },
  {
   "cell_type": "code",
   "execution_count": 24,
   "metadata": {},
   "outputs": [
    {
     "data": {
      "text/plain": [
       "12×70 Matrix{Int64}:\n",
       " 1  0  0  0  0  0  0  0  0  0  0  0  0  …  0  0  0  0  0  0  0  0  0  0  0  0\n",
       " 0  0  0  0  0  0  0  0  0  0  0  0  0     0  0  0  0  0  0  0  0  0  0  0  0\n",
       " 0  0  0  0  0  0  0  0  0  0  0  0  0     0  0  1  0  0  0  0  0  0  0  0  0\n",
       " 0  0  0  0  0  0  0  0  0  0  0  0  0     0  0  0  0  0  0  0  0  0  0  0  1\n",
       " 0  0  0  0  0  0  0  0  0  0  0  0  0     0  0  0  0  0  0  0  0  0  0  0  0\n",
       " 0  0  0  0  0  0  0  0  0  0  0  0  0  …  0  0  0  0  0  0  0  0  0  0  0  0\n",
       " 0  0  0  0  0  0  0  0  0  0  0  0  0     0  0  0  0  0  0  0  0  0  0  0  0\n",
       " 0  0  0  0  0  0  0  0  0  0  0  0  0     0  0  0  0  0  0  0  0  0  0  0  0\n",
       " 0  0  0  0  0  0  0  0  0  0  0  0  0     0  0  0  0  0  0  0  0  0  0  0  0\n",
       " 0  0  0  0  0  0  0  0  0  0  0  0  0     0  0  0  0  0  0  0  0  0  0  0  0\n",
       " 0  0  0  0  0  0  0  0  0  0  0  0  0  …  0  0  0  0  0  0  0  0  0  0  0  0\n",
       " 0  0  0  0  0  0  0  0  0  1  0  0  0     0  0  0  0  0  0  0  0  0  0  0  0"
      ]
     },
     "execution_count": 24,
     "metadata": {},
     "output_type": "execute_result"
    }
   ],
   "source": [
    "vcat([min_weights(SubdivisionOfPoints(Delta48, r))' for r in rays_w]...)"
   ]
  },
  {
   "cell_type": "markdown",
   "metadata": {},
   "source": [
    "### Matroidal subdivisions and the tropical Grassmannian\n",
    "\n",
    "A regular subdivision $\\mathcal{Q}$ of $\\Delta(d,n)$ is *matroidal* if every cell in $\\mathcal{Q}$ is the polytope of a matroid. Since the face of a matroid polytope is a matroid polytope by <a href=\"https://doi.org/10.1016/0001-8708(87)90059-4\">Gelfand, Goresky, MacPherson, Serganova 1987</a>.\n",
    "\n",
    "*Tropical Grassmannian*: $\\mathsf{TGr}{^\\circ}(d,n)$ the tropicalization of the open cell in the Grassmannian $\\mathsf{Gr}(d,n)$ defined by the nonvanishing of all Pl&uuml;cker coordinates. \n",
    "\n",
    "*Dressian*: $\\mathsf{Dr}(d,n) = \\{\\mathsf{w} \\in \\mathbb{R}^{\\textstyle{\\binom{[n]}{d}}} / \\mathbb{R} \\, : \\, \\mathcal{Q}(\\mathsf{w}) \\text{ is matroidal} \\}$. Naturally, the Dressian is the support of a subfan of $\\Sigma_{\\text{sec}}(\\Delta(d,n))$\n",
    "\n",
    "**Theorem** (<a href=\"https://doi.org/10.1137/080716219\">Speyer 2004</a>, <a href=\"https://doi.org/10.37236/72 \"> Herrmann, Jensen, Joswig, Sturmfels 2008</a>) The tropical Grassmannian $\\mathsf{TGr}^{\\circ}(d,n)$ is a subset of $\\mathsf{Dr}(d,n)$. In particular, $\\mathcal{Q}(\\mathsf{w})$ is matroidal for $\\mathsf{w} \\in \\mathsf{TGr}^{\\circ}(d,n)$. This inclusion is typically strict. In fact, $\\dim \\mathsf{TGr}{^\\circ}(d,n) = d(n-d)$, but $\\mathsf{Dr}(d,n)$ grows quadratically with $n$. \n",
    "\n",
    "Consider the corank vector `w` of $\\mathsf{Q}_{\\text{oct}}$ from before. The subdivision $\\mathcal{Q}(\\mathsf{w})$ is matroidal. Recall that the dual graph of $\\mathcal{Q}(\\mathsf{w})$ is a star tree. The central node is $\\mathsf{Q}_{\\text{oct}}$, and the leaf nodes are each isomorphic to the the $(4,8)$ matroid with rank 1 flats $1,2,3,4,5678$, and its simplification is $U(4,5)$. "
   ]
  },
  {
   "cell_type": "code",
   "execution_count": 25,
   "metadata": {},
   "outputs": [
    {
     "name": "stdout",
     "output_type": "stream",
     "text": [
      "is_isomorphic(matsQw[11], Oct) = true\n",
      "all([is_isomorphic(matsQw[i], Leaf) for i = [1, 2, 3, 4, 5, 6, 7, 8, 9, 10, 12, 13]]) = true\n"
     ]
    }
   ],
   "source": [
    "matsQw = [matroid_from_bases(C48[C], 8) for C in maxQw];\n",
    "Leaf = matroid_from_bases([[1,2,3,4],[1,2,3,5],[1,2,3,6],[1,2,3,7],[1,2,3,8],\n",
    "        [1,2,4,5],[1,2,4,6],[1,2,4,7],[1,2,4,8],[1,3,4,5],[1,3,4,6],\n",
    "        [1,3,4,7],[1,3,4,8],[2,3,4,5],[2,3,4,6],[2,3,4,7],[2,3,4,8]], 8)\n",
    "@show is_isomorphic(matsQw[11], Oct)\n",
    "@show all([is_isomorphic(matsQw[i], Leaf) for i in [1,2,3,4,5,6,7,8,9,10,12,13] ]);"
   ]
  },
  {
   "cell_type": "markdown",
   "metadata": {},
   "source": [
    "The secondary cone `Cw` containing `w` has dimension 19 (in $\\mathbb{R}^{\\textstyle{\\binom{[8]}{4}}}/\\mathbb{R}$), but $\\dim \\mathsf{TGr}^{\\circ}(4,8) = 16$, so $\\mathsf{TGr}^{\\circ}(4,8)$ is properly contained in $\\mathsf{Dr}(4,8)$. "
   ]
  },
  {
   "cell_type": "markdown",
   "metadata": {},
   "source": [
    "### Matroid strata of the Grassmannian and realization spaces\n",
    "\n",
    "Given a field $K$ and a matroid $\\mathsf{Q}$ realizable over $K$, its *matroid stratum* is the locally closed suscheme of the Grassmannian\n",
    "\\begin{equation}\n",
    "    \\mathsf{Gr}(\\mathsf{Q}) = \\{F \\subset K^{n} \\, : \\, F \\text{ is a realization of } \\mathsf{Q}\\}.\n",
    "\\end{equation}\n",
    "When $\\mathsf{Q}$ is connected, the diagonal torus $H\\subset \\mathsf{PGL(n)}$ acts freely on $\\mathsf{Gr}(\\mathsf{Q})$ and the quotient is isomorphic to $X(\\mathsf{Q})$, the moduli space $n$ hyperplanes in $\\mathbb{P}^{d-1}$ that realize $\\mathsf{Q}$, up to $\\mathsf{PGL(d)}$. The space $X(\\mathsf{Q})$ is called the *realization space* of $\\mathsf{Q}$.  By Mn&euml;v universality, the spaces $X(\\mathsf{Q})$ satisfy Murphy's law in the sense of <a href=\"https://doi.org/10.1007/s00222-005-0481-9\">Vakil 2004</a>. The matroid $\\mathsf{Q}_{mk}$ is the smallest rank $3$ matroid whose realization space is not irreducible. "
   ]
  },
  {
   "cell_type": "markdown",
   "metadata": {},
   "source": [
    "The function `matroid_realization_space` takes as input a simple connected matroid, a subset `A` of $d+1$ points in general position, and a field. It returns a pair `(M,W)` where `M` is a $d\\times n$ matrix of variables, and `W` is the coordinate ring of $\\mathsf{Q}$. The columns of the matrix `M` are the normal vectors of hyperplanes realizing $\\mathsf{Q}$. We set the the columns of `M` indexed by `A` equal to the projective identity. As each column represents a point in $\\mathbb{P}^{d-1}$, we may set one of the nonzero entries equal to 1. The remaining nonzero entries are given a variable. The coordinate ring `W` of $X(\\mathsf{Q})$ is obtained from the polynomial ring by\n",
    "   - quotienting by the ideal generated by the minors `M` whose columns are indexed by the nonbases,\n",
    "   - localizing by the multiplicative semigroup generated by the minors of `M` whose columns are indexed by the bases.\n",
    "   \n",
    "Consider $\\mathsf{Q}_{mk}$. The points $1367$ are in general position. "
   ]
  },
  {
   "cell_type": "code",
   "execution_count": 26,
   "metadata": {},
   "outputs": [
    {
     "data": {
      "text/plain": [
       "[1   x_{1, 1}   0   x_{1, 2}   x_{1, 3}   0   1          0]\n",
       "[0          0   1   x_{2, 2}   x_{2, 3}   0   1   x_{2, 4}]\n",
       "[0          1   0          1          1   1   1          1]"
      ]
     },
     "execution_count": 26,
     "metadata": {},
     "output_type": "execute_result"
    }
   ],
   "source": [
    "RMK = matroid_realization_space(MK,[1,3,6,7],QQ)\n",
    "RMK[1]"
   ]
  },
  {
   "cell_type": "markdown",
   "metadata": {},
   "source": [
    "`RMK[1]` is is the reference matrix `M`. "
   ]
  },
  {
   "cell_type": "code",
   "execution_count": 27,
   "metadata": {},
   "outputs": [
    {
     "data": {
      "text/plain": [
       "6-element Vector{MPolyLocRingElem{QQField, QQFieldElem, QQMPolyRing, QQMPolyRingElem, MPolyPowersOfElement{QQField, QQFieldElem, QQMPolyRing, QQMPolyRingElem}}}:\n",
       " x_{2, 2} - x_{2, 3}\n",
       " -x_{2, 4} + 1\n",
       " x_{1, 1} - x_{1, 3}\n",
       " x_{1, 1}*x_{2, 2} - x_{1, 1}*x_{2, 4} + x_{1, 2}*x_{2, 4}\n",
       " -x_{1, 2} + 1\n",
       " -x_{1, 3} + x_{2, 3}"
      ]
     },
     "execution_count": 27,
     "metadata": {},
     "output_type": "execute_result"
    }
   ],
   "source": [
    "R = base_ring(RMK[2])\n",
    "x= gens(R)\n",
    "I = modulus(RMK[2])\n",
    "gens(I)"
   ]
  },
  {
   "cell_type": "markdown",
   "metadata": {},
   "source": [
    "`I` is the ideal of the coordinate ring `W`. Notice that\n",
    "\\begin{equation}\n",
    "    \\begin{array}{ccccc}\n",
    "        x_{12} \\equiv 1 & x_{22} \\equiv x_{11} & x_{13} \\equiv x_{11} & x_{23} \\equiv x_{11} & x_{24} \\equiv 1\n",
    "    \\end{array} \\mod I\n",
    "\\end{equation}\n",
    "so we may perform these substitutions to produce a simplier expression for this ring. "
   ]
  },
  {
   "cell_type": "code",
   "execution_count": 28,
   "metadata": {},
   "outputs": [
    {
     "data": {
      "text/plain": [
       "x_{1, 1}^2 - x_{1, 1} + 1"
      ]
     },
     "execution_count": 28,
     "metadata": {},
     "output_type": "execute_result"
    }
   ],
   "source": [
    "phi = hom(R, R, [x[1], 1, x[1], x[1], x[1], 1])\n",
    "f = numerator(gens(I)[4])\n",
    "phi(f)"
   ]
  },
  {
   "cell_type": "markdown",
   "metadata": {},
   "source": [
    "The resulting ring has the form $S^{-1}\\mathbb{Q}[x]/\\langle x^{2} - x +1 \\rangle$. After base changing to $\\mathbb{C}$, this polynomial factors as $(x-\\omega)(x-\\bar{\\omega})$ where $\\omega$ and $\\bar{\\omega}$ are the primitive 6th roots of unity. This proves that $X(\\mathsf{Q})$ has 2 connected components. "
   ]
  },
  {
   "cell_type": "markdown",
   "metadata": {},
   "source": [
    "## Polymake Database\n",
    "\n",
    "The matroids with small rank and ground set can be found in the polymake database, see\n",
    "-for an interactive version of the database https://db.polymake.org/\n",
    "-for a tutorial on how to use the database https://polymake.org/doku.php/user_guide/howto/polydb_tutorial\n",
    "\n",
    "Here is how we can collect all simple $(3,7)$-matroids."
   ]
  },
  {
   "cell_type": "code",
   "execution_count": 29,
   "metadata": {},
   "outputs": [],
   "source": [
    "db = Polymake.Polydb.get_db();\n",
    "collection = db[\"Matroids.Small\"];\n",
    "cursor=Polymake.Polydb.find(collection, Dict(\"RANK\" => 3, \"SIMPLE\"=>true, \"N_ELEMENTS\"=>7));"
   ]
  },
  {
   "cell_type": "markdown",
   "metadata": {},
   "source": [
    "And here are their automorphism groups"
   ]
  },
  {
   "cell_type": "code",
   "execution_count": 30,
   "metadata": {},
   "outputs": [
    {
     "name": "stdout",
     "output_type": "stream",
     "text": [
      "1: S7\n",
      "2: S4 x S3\n",
      "3: (S3 x S3) : C2\n",
      "4: C2 x D8\n",
      "5: D8\n",
      "6: C2 x S4\n",
      "7: S3\n",
      "8: C2 x C2\n",
      "9: S3\n",
      "10: D12\n",
      "11: S4\n",
      "12: D8\n",
      "13: S4\n",
      "14: PSL(3,2)\n",
      "15: S3 x S4\n",
      "16: S3 x S4\n",
      "17: D12\n",
      "18: C2 x C2\n",
      "19: S3\n",
      "20: (S3 x S3) : C2\n",
      "21: C2 x S5\n",
      "22: C2 x S4\n",
      "23: S6\n"
     ]
    }
   ],
   "source": [
    "i=1\n",
    "for c in cursor\n",
    "    M = Matroid(c)\n",
    "    println(i, \": \", describe(automorphism_group(M)))\n",
    "    i+=1\n",
    "end"
   ]
  },
  {
   "cell_type": "markdown",
   "metadata": {},
   "source": [
    "Let's compute the characteristic polynomial of all binary $(4,9)$-matroids"
   ]
  },
  {
   "cell_type": "code",
   "execution_count": 31,
   "metadata": {},
   "outputs": [],
   "source": [
    "db = Polymake.Polydb.get_db();\n",
    "collection = db[\"Matroids.Small\"];\n",
    "cursor = Polymake.Polydb.find(collection, Dict(\"RANK\" => 4, \"N_LOOPS\"=> 0, \"BINARY\"=>true, \"N_ELEMENTS\"=>9));"
   ]
  },
  {
   "cell_type": "code",
   "execution_count": 32,
   "metadata": {
    "scrolled": false
   },
   "outputs": [
    {
     "name": "stdout",
     "output_type": "stream",
     "text": [
      "1: q^4 - 7*q^3 + 19*q^2 - 23*q + 10\n",
      "2: q^4 - 7*q^3 + 17*q^2 - 17*q + 6\n",
      "3: q^4 - 9*q^3 + 28*q^2 - 36*q + 16\n",
      "4: q^4 - 8*q^3 + 21*q^2 - 22*q + 8\n",
      "5: q^4 - 8*q^3 + 24*q^2 - 31*q + 14\n",
      "6: q^4 - 8*q^3 + 23*q^2 - 28*q + 12\n",
      "7: q^4 - 8*q^3 + 23*q^2 - 28*q + 12\n",
      "8: q^4 - 8*q^3 + 23*q^2 - 28*q + 12\n",
      "9: q^4 - 7*q^3 + 17*q^2 - 17*q + 6\n",
      "10: q^4 - 7*q^3 + 19*q^2 - 23*q + 10\n",
      "11: q^4 - 7*q^3 + 18*q^2 - 20*q + 8\n",
      "12: q^4 - 7*q^3 + 18*q^2 - 20*q + 8\n",
      "13: q^4 - 7*q^3 + 19*q^2 - 23*q + 10\n",
      "14: q^4 - 7*q^3 + 18*q^2 - 20*q + 8\n",
      "15: q^4 - 6*q^3 + 13*q^2 - 12*q + 4\n",
      "16: q^4 - 6*q^3 + 14*q^2 - 15*q + 6\n",
      "17: q^4 - 6*q^3 + 15*q^2 - 17*q + 7\n",
      "18: q^4 - 6*q^3 + 14*q^2 - 15*q + 6\n",
      "19: q^4 - 5*q^3 + 10*q^2 - 9*q + 3\n",
      "20: q^4 - 7*q^3 + 19*q^2 - 23*q + 10\n",
      "21: q^4 - 7*q^3 + 18*q^2 - 20*q + 8\n",
      "22: q^4 - 7*q^3 + 18*q^2 - 20*q + 8\n",
      "23: q^4 - 7*q^3 + 19*q^2 - 23*q + 10\n",
      "24: q^4 - 7*q^3 + 18*q^2 - 20*q + 8\n",
      "25: q^4 - 7*q^3 + 18*q^2 - 20*q + 8\n",
      "26: q^4 - 7*q^3 + 18*q^2 - 20*q + 8\n",
      "27: q^4 - 7*q^3 + 18*q^2 - 20*q + 8\n",
      "28: q^4 - 6*q^3 + 14*q^2 - 15*q + 6\n",
      "29: q^4 - 6*q^3 + 14*q^2 - 15*q + 6\n",
      "30: q^4 - 6*q^3 + 13*q^2 - 12*q + 4\n",
      "31: q^4 - 6*q^3 + 13*q^2 - 12*q + 4\n",
      "32: q^4 - 6*q^3 + 13*q^2 - 12*q + 4\n",
      "33: q^4 - 5*q^3 + 9*q^2 - 7*q + 2\n",
      "34: q^4 - 7*q^3 + 19*q^2 - 23*q + 10\n",
      "35: q^4 - 7*q^3 + 18*q^2 - 20*q + 8\n",
      "36: q^4 - 7*q^3 + 18*q^2 - 20*q + 8\n",
      "37: q^4 - 7*q^3 + 18*q^2 - 20*q + 8\n",
      "38: q^4 - 7*q^3 + 19*q^2 - 23*q + 10\n",
      "39: q^4 - 7*q^3 + 18*q^2 - 20*q + 8\n",
      "40: q^4 - 7*q^3 + 18*q^2 - 20*q + 8\n",
      "41: q^4 - 6*q^3 + 15*q^2 - 17*q + 7\n",
      "42: q^4 - 6*q^3 + 14*q^2 - 15*q + 6\n",
      "43: q^4 - 6*q^3 + 15*q^2 - 17*q + 7\n",
      "44: q^4 - 6*q^3 + 14*q^2 - 15*q + 6\n",
      "45: q^4 - 6*q^3 + 13*q^2 - 12*q + 4\n",
      "46: q^4 - 6*q^3 + 14*q^2 - 15*q + 6\n",
      "47: q^4 - 6*q^3 + 13*q^2 - 12*q + 4\n",
      "48: q^4 - 6*q^3 + 14*q^2 - 15*q + 6\n",
      "49: q^4 - 6*q^3 + 13*q^2 - 12*q + 4\n",
      "50: q^4 - 6*q^3 + 14*q^2 - 15*q + 6\n",
      "51: q^4 - 6*q^3 + 13*q^2 - 12*q + 4\n",
      "52: q^4 - 6*q^3 + 13*q^2 - 12*q + 4\n",
      "53: q^4 - 5*q^3 + 10*q^2 - 10*q + 4\n",
      "54: q^4 - 5*q^3 + 10*q^2 - 9*q + 3\n",
      "55: q^4 - 5*q^3 + 10*q^2 - 9*q + 3\n",
      "56: q^4 - 5*q^3 + 9*q^2 - 7*q + 2\n",
      "57: q^4 - 5*q^3 + 9*q^2 - 7*q + 2\n",
      "58: q^4 - 4*q^3 + 6*q^2 - 4*q + 1\n",
      "59: q^4 - 6*q^3 + 15*q^2 - 17*q + 7\n",
      "60: q^4 - 6*q^3 + 14*q^2 - 15*q + 6\n",
      "61: q^4 - 6*q^3 + 13*q^2 - 12*q + 4\n",
      "62: q^4 - 6*q^3 + 14*q^2 - 15*q + 6\n",
      "63: q^4 - 6*q^3 + 13*q^2 - 12*q + 4\n",
      "64: q^4 - 6*q^3 + 14*q^2 - 15*q + 6\n",
      "65: q^4 - 6*q^3 + 14*q^2 - 15*q + 6\n",
      "66: q^4 - 6*q^3 + 14*q^2 - 15*q + 6\n",
      "67: q^4 - 6*q^3 + 13*q^2 - 12*q + 4\n",
      "68: q^4 - 5*q^3 + 10*q^2 - 10*q + 4\n",
      "69: q^4 - 5*q^3 + 10*q^2 - 9*q + 3\n",
      "70: q^4 - 5*q^3 + 9*q^2 - 7*q + 2\n",
      "71: q^4 - 6*q^3 + 14*q^2 - 15*q + 6\n",
      "72: q^4 - 6*q^3 + 14*q^2 - 15*q + 6\n",
      "73: q^4 - 6*q^3 + 13*q^2 - 12*q + 4\n",
      "74: q^4 - 5*q^3 + 10*q^2 - 10*q + 4\n",
      "75: q^4 - 5*q^3 + 10*q^2 - 9*q + 3\n",
      "76: q^4 - 5*q^3 + 10*q^2 - 9*q + 3\n",
      "77: q^4 - 5*q^3 + 9*q^2 - 7*q + 2\n",
      "78: q^4 - 5*q^3 + 10*q^2 - 10*q + 4\n",
      "79: q^4 - 5*q^3 + 10*q^2 - 9*q + 3\n",
      "80: q^4 - 8*q^3 + 21*q^2 - 22*q + 8\n",
      "81: q^4 - 7*q^3 + 17*q^2 - 17*q + 6\n",
      "82: q^4 - 5*q^3 + 10*q^2 - 9*q + 3\n",
      "83: q^4 - 7*q^3 + 17*q^2 - 17*q + 6\n",
      "84: q^4 - 6*q^3 + 13*q^2 - 12*q + 4\n",
      "85: q^4 - 6*q^3 + 13*q^2 - 12*q + 4\n",
      "86: q^4 - 7*q^3 + 17*q^2 - 17*q + 6\n",
      "87: q^4 - 6*q^3 + 13*q^2 - 12*q + 4\n",
      "88: q^4 - 5*q^3 + 10*q^2 - 9*q + 3\n",
      "89: q^4 - 5*q^3 + 9*q^2 - 7*q + 2\n",
      "90: q^4 - 6*q^3 + 13*q^2 - 12*q + 4\n",
      "91: q^4 - 5*q^3 + 9*q^2 - 7*q + 2\n",
      "92: q^4 - 6*q^3 + 13*q^2 - 12*q + 4\n",
      "93: q^4 - 6*q^3 + 13*q^2 - 12*q + 4\n",
      "94: q^4 - 6*q^3 + 13*q^2 - 12*q + 4\n",
      "95: q^4 - 5*q^3 + 9*q^2 - 7*q + 2\n",
      "96: q^4 - 5*q^3 + 10*q^2 - 9*q + 3\n",
      "97: q^4 - 5*q^3 + 9*q^2 - 7*q + 2\n",
      "98: q^4 - 4*q^3 + 6*q^2 - 4*q + 1\n",
      "99: q^4 - 6*q^3 + 13*q^2 - 12*q + 4\n",
      "100: q^4 - 6*q^3 + 13*q^2 - 12*q + 4\n",
      "101: q^4 - 5*q^3 + 10*q^2 - 9*q + 3\n",
      "102: q^4 - 5*q^3 + 9*q^2 - 7*q + 2\n",
      "103: q^4 - 5*q^3 + 9*q^2 - 7*q + 2\n",
      "104: q^4 - 4*q^3 + 6*q^2 - 4*q + 1\n",
      "105: q^4 - 5*q^3 + 10*q^2 - 9*q + 3\n",
      "106: q^4 - 5*q^3 + 9*q^2 - 7*q + 2\n",
      "107: q^4 - 5*q^3 + 9*q^2 - 7*q + 2\n",
      "108: q^4 - 5*q^3 + 9*q^2 - 7*q + 2\n",
      "109: q^4 - 5*q^3 + 9*q^2 - 7*q + 2\n",
      "110: q^4 - 4*q^3 + 6*q^2 - 4*q + 1\n",
      "111: q^4 - 5*q^3 + 9*q^2 - 7*q + 2\n",
      "112: q^4 - 4*q^3 + 6*q^2 - 4*q + 1\n",
      "113: q^4 - 4*q^3 + 6*q^2 - 4*q + 1\n",
      "114: q^4 - 9*q^3 + 30*q^2 - 42*q + 20\n",
      "115: q^4 - 9*q^3 + 32*q^2 - 48*q + 24\n",
      "116: q^4 - 8*q^3 + 28*q^2 - 42*q + 21\n",
      "117: q^4 - 8*q^3 + 25*q^2 - 34*q + 16\n",
      "118: q^4 - 9*q^3 + 30*q^2 - 42*q + 20\n",
      "119: q^4 - 9*q^3 + 29*q^2 - 39*q + 18\n",
      "120: q^4 - 8*q^3 + 24*q^2 - 31*q + 14\n",
      "121: q^4 - 8*q^3 + 24*q^2 - 31*q + 14\n",
      "122: q^4 - 8*q^3 + 25*q^2 - 34*q + 16\n",
      "123: q^4 - 8*q^3 + 23*q^2 - 28*q + 12\n",
      "124: q^4 - 8*q^3 + 24*q^2 - 31*q + 14\n",
      "125: q^4 - 8*q^3 + 25*q^2 - 34*q + 16\n",
      "126: q^4 - 7*q^3 + 21*q^2 - 28*q + 13\n",
      "127: q^4 - 7*q^3 + 19*q^2 - 23*q + 10\n",
      "128: q^4 - 7*q^3 + 19*q^2 - 23*q + 10\n",
      "129: q^4 - 7*q^3 + 18*q^2 - 20*q + 8\n",
      "130: q^4 - 7*q^3 + 19*q^2 - 23*q + 10\n",
      "131: q^4 - 6*q^3 + 15*q^2 - 17*q + 7\n",
      "132: q^4 - 6*q^3 + 14*q^2 - 15*q + 6\n",
      "133: q^4 - 5*q^3 + 10*q^2 - 10*q + 4\n",
      "134: q^4 - 7*q^3 + 21*q^2 - 28*q + 13\n"
     ]
    }
   ],
   "source": [
    "i=1\n",
    "for c in cursor\n",
    "    M = Matroid(c)\n",
    "    println(i, \": \", characteristic_polynomial(M))\n",
    "    i+=1\n",
    "end"
   ]
  },
  {
   "cell_type": "markdown",
   "metadata": {},
   "source": [
    "## Commands I wish I knew earlier"
   ]
  },
  {
   "cell_type": "markdown",
   "metadata": {},
   "source": [
    "`print` is the usual print, but `println` adds a new line at the end. "
   ]
  },
  {
   "cell_type": "code",
   "execution_count": 33,
   "metadata": {},
   "outputs": [
    {
     "name": "stdout",
     "output_type": "stream",
     "text": [
      "abc"
     ]
    }
   ],
   "source": [
    "print(\"a\", \"b\"); print(\"c\")"
   ]
  },
  {
   "cell_type": "code",
   "execution_count": 34,
   "metadata": {},
   "outputs": [
    {
     "name": "stdout",
     "output_type": "stream",
     "text": [
      "ab\n",
      "c\n"
     ]
    }
   ],
   "source": [
    "println(\"a\", \"b\"); println(\"c\")"
   ]
  },
  {
   "cell_type": "markdown",
   "metadata": {},
   "source": [
    "Generate matrix with for loops."
   ]
  },
  {
   "cell_type": "code",
   "execution_count": 35,
   "metadata": {},
   "outputs": [
    {
     "data": {
      "text/plain": [
       "4×7 Matrix{String}:\n",
       " \"11\"  \"12\"  \"13\"  \"14\"  \"15\"  \"16\"  \"17\"\n",
       " \"21\"  \"22\"  \"23\"  \"24\"  \"25\"  \"26\"  \"27\"\n",
       " \"31\"  \"32\"  \"33\"  \"34\"  \"35\"  \"36\"  \"37\"\n",
       " \"41\"  \"42\"  \"43\"  \"44\"  \"45\"  \"46\"  \"47\""
      ]
     },
     "execution_count": 35,
     "metadata": {},
     "output_type": "execute_result"
    }
   ],
   "source": [
    "[string(i,j) for i in 1:4, j in 1:7]"
   ]
  },
  {
   "cell_type": "markdown",
   "metadata": {},
   "source": [
    "More generally, combined for loops."
   ]
  },
  {
   "cell_type": "code",
   "execution_count": 36,
   "metadata": {},
   "outputs": [
    {
     "data": {
      "text/plain": [
       "4×7 Matrix{Any}:\n",
       " \"11\"  \"12\"  \"13\"  \"14\"  \"15\"  \"16\"  \"17\"\n",
       " \"21\"  \"22\"  \"23\"  \"24\"  \"25\"  \"26\"  \"27\"\n",
       " \"31\"  \"32\"  \"33\"  \"34\"  \"35\"  \"36\"  \"37\"\n",
       " \"41\"  \"42\"  \"43\"  \"44\"  \"45\"  \"46\"  \"47\""
      ]
     },
     "execution_count": 36,
     "metadata": {},
     "output_type": "execute_result"
    }
   ],
   "source": [
    "v = Matrix(undef, 4, 7)\n",
    "for i in 1:4, j in 1:7\n",
    "    v[i,j] = string(i,j)\n",
    "end\n",
    "v"
   ]
  },
  {
   "cell_type": "markdown",
   "metadata": {},
   "source": [
    "Concatenate a list of vectors into a matrix using `hcat` and `vcat`. If you have a array of arrays `L`, place the string `...` after `L` to contatenate the entries of `L`.  "
   ]
  },
  {
   "cell_type": "code",
   "execution_count": 37,
   "metadata": {},
   "outputs": [
    {
     "data": {
      "text/plain": [
       "7-element Vector{Vector{String}}:\n",
       " [\"11\", \"21\", \"31\", \"41\"]\n",
       " [\"12\", \"22\", \"32\", \"42\"]\n",
       " [\"13\", \"23\", \"33\", \"43\"]\n",
       " [\"14\", \"24\", \"34\", \"44\"]\n",
       " [\"15\", \"25\", \"35\", \"45\"]\n",
       " [\"16\", \"26\", \"36\", \"46\"]\n",
       " [\"17\", \"27\", \"37\", \"47\"]"
      ]
     },
     "execution_count": 37,
     "metadata": {},
     "output_type": "execute_result"
    }
   ],
   "source": [
    "vs = [[string(i,j) for i in 1:4] for j in 1:7]"
   ]
  },
  {
   "cell_type": "code",
   "execution_count": 38,
   "metadata": {},
   "outputs": [
    {
     "data": {
      "text/plain": [
       "4×7 Matrix{String}:\n",
       " \"11\"  \"12\"  \"13\"  \"14\"  \"15\"  \"16\"  \"17\"\n",
       " \"21\"  \"22\"  \"23\"  \"24\"  \"25\"  \"26\"  \"27\"\n",
       " \"31\"  \"32\"  \"33\"  \"34\"  \"35\"  \"36\"  \"37\"\n",
       " \"41\"  \"42\"  \"43\"  \"44\"  \"45\"  \"46\"  \"47\""
      ]
     },
     "execution_count": 38,
     "metadata": {},
     "output_type": "execute_result"
    }
   ],
   "source": [
    "v2 = hcat(vs...)\n",
    "v2"
   ]
  }
 ],
 "metadata": {
  "kernelspec": {
   "display_name": "Julia 1.8.5",
   "language": "julia",
   "name": "julia-1.8"
  },
  "language_info": {
   "file_extension": ".jl",
   "mimetype": "application/julia",
   "name": "julia",
   "version": "1.8.5"
  }
 },
 "nbformat": 4,
 "nbformat_minor": 4
}
